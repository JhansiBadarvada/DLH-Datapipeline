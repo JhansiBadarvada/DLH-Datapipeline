{
 "cells": [
  {
   "cell_type": "markdown",
   "metadata": {},
   "source": [
    "pip install torch"
   ]
  },
  {
   "cell_type": "markdown",
   "metadata": {},
   "source": [
    "pip install xgboost"
   ]
  },
  {
   "cell_type": "markdown",
   "metadata": {},
   "source": [
    "pip install codec"
   ]
  },
  {
   "cell_type": "markdown",
   "metadata": {},
   "source": [
    "pip install scikit-learn==1.2.2"
   ]
  },
  {
   "cell_type": "markdown",
   "metadata": {},
   "source": [
    "pip install imblearn"
   ]
  },
  {
   "cell_type": "markdown",
   "metadata": {},
   "source": [
    "pip install import_ipynb"
   ]
  },
  {
   "cell_type": "markdown",
   "metadata": {},
   "source": [
    "pip install captum"
   ]
  },
  {
   "cell_type": "markdown",
   "metadata": {},
   "source": [
    "pip install pytorch_pretrained_bert"
   ]
  },
  {
   "cell_type": "code",
   "execution_count": 3,
   "metadata": {},
   "outputs": [],
   "source": [
    "import ipywidgets as widgets\n",
    "import sys\n",
    "from pathlib import Path\n",
    "import os\n",
    "import importlib\n",
    "\n",
    "\n",
    "module_path='preprocessing/day_intervals_preproc'\n",
    "if module_path not in sys.path:\n",
    "    sys.path.append(module_path)\n",
    "\n",
    "module_path='utils'\n",
    "if module_path not in sys.path:\n",
    "    sys.path.append(module_path)\n",
    "    \n",
    "module_path='preprocessing/hosp_module_preproc'\n",
    "if module_path not in sys.path:\n",
    "    sys.path.append(module_path)\n",
    "    \n",
    "module_path='model'\n",
    "if module_path not in sys.path:\n",
    "    sys.path.append(module_path)\n",
    "#print(sys.path)\n",
    "root_dir = os.path.dirname(os.path.abspath('UserInterface.ipynb'))\n",
    "import day_intervals_cohort\n",
    "from day_intervals_cohort import *\n",
    "\n",
    "import day_intervals_cohort_v2\n",
    "from day_intervals_cohort_v2 import *\n",
    "\n",
    "import data_generation_icu\n",
    "\n",
    "import data_generation\n",
    "import evaluation\n",
    "\n",
    "import feature_selection_hosp\n",
    "from feature_selection_hosp import *\n",
    "\n",
    "# import train\n",
    "# from train import *\n",
    "\n",
    "\n",
    "import ml_models\n",
    "from ml_models import *\n",
    "\n",
    "import dl_train\n",
    "from dl_train import *\n",
    "\n",
    "import tokenization\n",
    "from tokenization import *\n",
    "\n",
    "\n",
    "import behrt_train\n",
    "from behrt_train import *\n",
    "\n",
    "import feature_selection_icu\n",
    "from feature_selection_icu import *\n",
    "import fairness\n",
    "import callibrate_output"
   ]
  },
  {
   "cell_type": "code",
   "execution_count": 4,
   "metadata": {},
   "outputs": [],
   "source": [
    "importlib.reload(day_intervals_cohort)\n",
    "import day_intervals_cohort\n",
    "from day_intervals_cohort import *\n",
    "\n",
    "importlib.reload(day_intervals_cohort_v2)\n",
    "import day_intervals_cohort_v2\n",
    "from day_intervals_cohort_v2 import *\n",
    "\n",
    "importlib.reload(data_generation_icu)\n",
    "import data_generation_icu\n",
    "importlib.reload(data_generation)\n",
    "import data_generation\n",
    "\n",
    "importlib.reload(feature_selection_hosp)\n",
    "import feature_selection_hosp\n",
    "from feature_selection_hosp import *\n",
    "\n",
    "importlib.reload(feature_selection_icu)\n",
    "import feature_selection_icu\n",
    "from feature_selection_icu import *\n",
    "\n",
    "importlib.reload(tokenization)\n",
    "import tokenization\n",
    "from tokenization import *\n",
    "\n",
    "importlib.reload(ml_models)\n",
    "import ml_models\n",
    "from ml_models import *\n",
    "\n",
    "importlib.reload(dl_train)\n",
    "import dl_train\n",
    "from dl_train import *\n",
    "\n",
    "importlib.reload(behrt_train)\n",
    "import behrt_train\n",
    "from behrt_train import *\n",
    "\n",
    "importlib.reload(fairness)\n",
    "import fairness\n",
    "\n",
    "importlib.reload(callibrate_output)\n",
    "import callibrate_output\n",
    "\n",
    "importlib.reload(evaluation)\n",
    "import evaluation\n",
    "\n",
    "import pipeline_settings"
   ]
  },
  {
   "cell_type": "markdown",
   "metadata": {},
   "source": [
    "# Welcome to your MIMIC-IV Project"
   ]
  },
  {
   "cell_type": "markdown",
   "metadata": {},
   "source": [
    "This repository explains the steps to download and clean MIMIC-IV dataset for analysis.\n",
    "The repository is compatible with MIMIC-IV v1.0 and MIMIC-IV v2.0\n",
    "\n",
    "Please go to:\n",
    "- https://physionet.org/content/mimiciv/1.0/ for v1.0\n",
    "- https://physionet.org/content/mimiciv/2.0/ for v2.0\n",
    "\n",
    "Follow instructions to get access to MIMIC-IV dataset.\n",
    "\n",
    "Download the files using your terminal: \n",
    "- wget -r -N -c -np --user mehakg --ask-password https://physionet.org/files/mimiciv/1.0/ or\n",
    "- wget -r -N -c -np --user mehakg --ask-password https://physionet.org/files/mimiciv/2.0/\n",
    "        \n",
    "\n",
    "Save downloaded files in the parent directory of this github repo. \n",
    "\n",
    "The structure should look like below for v1.0-\n",
    "- mimiciv/1.0/core\n",
    "- mimiciv/1.0/hosp\n",
    "- mimiciv/1.0/icu\n",
    "\n",
    "The structure should look like below for v2.0-\n",
    "- mimiciv/2.0/hosp\n",
    "- mimiciv/2.0/icu"
   ]
  },
  {
   "cell_type": "markdown",
   "metadata": {},
   "source": [
    "## 1. DATA EXTRACTION\n",
    "Please run below cell to select option for cohort selection.\n",
    "The cohort will be svaed in **./data/cohort/**"
   ]
  },
  {
   "cell_type": "code",
   "execution_count": 5,
   "metadata": {},
   "outputs": [],
   "source": [
    "config = pipeline_settings.pipeline_settings()"
   ]
  },
  {
   "cell_type": "code",
   "execution_count": 6,
   "metadata": {},
   "outputs": [],
   "source": [
    "config.load_settings('./config/pipeline-settings.json')"
   ]
  },
  {
   "cell_type": "code",
   "execution_count": 7,
   "metadata": {},
   "outputs": [
    {
     "data": {
      "text/plain": [
       "{'version': 'Version 2',\n",
       " 'prediction': 'Readmission',\n",
       " 'label': 'Readmission',\n",
       " 'time': 30,\n",
       " 'icu_label': 'Non-ICU',\n",
       " 'data_icu': False,\n",
       " 'data_mort': False,\n",
       " 'data_admn': True,\n",
       " 'data_los': False,\n",
       " 'icd_code': 'I50',\n",
       " 'disease_label': '',\n",
       " 'diag_flag': True,\n",
       " 'proc_flag': True,\n",
       " 'med_flag': True,\n",
       " 'lab_flag': True,\n",
       " 'group_diag': 'Convert ICD-9 to ICD-10 and group ICD-10 codes',\n",
       " 'group_med': 'Yes',\n",
       " 'group_proc': 'ICD-10',\n",
       " 'select_diag': False,\n",
       " 'select_med': False,\n",
       " 'select_proc': False,\n",
       " 'select_lab': False,\n",
       " 'select_out': False,\n",
       " 'select_chart': False,\n",
       " 'version_path': 'mimiciv/2.0',\n",
       " 'clean_lab': False,\n",
       " 'impute_outlier': False,\n",
       " 'thresh': 98,\n",
       " 'left_thresh': 0,\n",
       " 'bucket': 1,\n",
       " 'predW': 1,\n",
       " 'include': 72,\n",
       " 'impute': False,\n",
       " 'model': 'Gradient Bossting',\n",
       " 'concat': True,\n",
       " 'cv': 5,\n",
       " 'oversampling': True}"
      ]
     },
     "execution_count": 7,
     "metadata": {},
     "output_type": "execute_result"
    }
   ],
   "source": [
    "config.getall()"
   ]
  },
  {
   "cell_type": "markdown",
   "metadata": {},
   "source": [
    "### Refining Cohort and Prediction Task Definition\n",
    "\n",
    "Based on your current selection following block will provide option to further refine prediction task and cohort associated with it:\n",
    "\n",
    "- First you will refine the prediction task choosing from following options -\n",
    "    - **length of Stay** - You can select from two predefined options or enter custom number of days to predict length os stay greater than number of days.\n",
    "\n",
    "    - **Readmission** - You can select from two predefined options or enter custom number of days to predict readmission after \"number of days\" after previous admission.\n",
    "\n",
    "    - **Phenotype Prediction** - You can select from four major chronic diseases to predict its future outcome\n",
    "\n",
    "        - Heart failure\n",
    "        - CAD (Coronary Artery Disease)\n",
    "        - CKD (Chronic Kidney Disease)\n",
    "        - COPD (Chronic obstructive pulmonary disease)\n",
    "\n",
    "- Second, you will choode whether to perfom above task using ICU or non-ICU admissions data\n",
    "\n",
    "- Third, you can refine the refine the cohort selection for any of the above choosen prediction tasks by including the admission samples admitted with particular chronic disease - \n",
    "    - Heart failure\n",
    "    - CAD (Coronary Artery Disease)\n",
    "    - CKD (Chronic Kidney Disease)\n",
    "    - COPD (Chronic obstructive pulmonary disease)\n",
    "    \n",
    "print(\"**Please run below cell to extract the cohort for selected options**\")"
   ]
  },
  {
   "cell_type": "code",
   "execution_count": null,
   "metadata": {},
   "outputs": [
    {
     "name": "stdout",
     "output_type": "stream",
     "text": [
      "===========MIMIC-IV v2.0============\n",
      "EXTRACTING FOR: | NON-ICU | READMISSION | ADMITTED DUE TO I50 | 30 |\n"
     ]
    },
    {
     "name": "stderr",
     "output_type": "stream",
     "text": [
      " 23%|████████████████▋                                                        | 42635/186239 [20:45<2:20:28, 17.04it/s]"
     ]
    }
   ],
   "source": [
    "if config.getAttr('version')=='Version 1':\n",
    "    version_path=\"mimiciv/1.0\"\n",
    "    config.setAttr('version_path', version_path)\n",
    "    cohort_output = day_intervals_cohort.extract_data(\n",
    "                                            config.getAttr('icu_label'),\n",
    "                                            config.getAttr('label'),\n",
    "                                            config.getAttr('time'),\n",
    "                                            config.getAttr('icd_code'),\n",
    "                                            root_dir,\n",
    "                                            config.getAttr('disease_label')\n",
    "                                            )\n",
    "elif  config.getAttr('version')=='Version 2':\n",
    "    version_path=\"mimiciv/2.0\"\n",
    "    config.setAttr('version_path', version_path)\n",
    "    cohort_output = day_intervals_cohort_v2.extract_data( \n",
    "                                            config.getAttr('icu_label'), \n",
    "                                            config.getAttr('label'), \n",
    "                                            config.getAttr('time'), \n",
    "                                            config.getAttr('icd_code'), \n",
    "                                            root_dir, \n",
    "                                            config.getAttr('disease_label') \n",
    "                                            )"
   ]
  },
  {
   "cell_type": "markdown",
   "metadata": {},
   "source": [
    "## 2. FEATURE SELECTION\n",
    "Features available for ICU data -\n",
    "- Diagnosis (https://mimic.mit.edu/docs/iv/modules/hosp/diagnoses_icd/)\n",
    "- Procedures (https://mimic.mit.edu/docs/iv/modules/icu/procedureevents/)\n",
    "- Medications (https://mimic.mit.edu/docs/iv/modules/icu/inputevents/)\n",
    "- Output Events (https://mimic.mit.edu/docs/iv/modules/icu/outputevents/)\n",
    "- Chart Events (https://mimic.mit.edu/docs/iv/modules/icu/chartevents/)\n",
    "\n",
    "Features available for ICU data -\n",
    "- Diagnosis (https://mimic.mit.edu/docs/iv/modules/hosp/diagnoses_icd/)\n",
    "- Procedures (https://mimic.mit.edu/docs/iv/modules/hosp/procedures_icd/)\n",
    "- Medications (https://mimic.mit.edu/docs/iv/modules/hosp/prescriptions/)\n",
    "- Lab Events (https://mimic.mit.edu/docs/iv/modules/hosp/labevents/)\n",
    "\n",
    "All features will be saved in **./data/features/**\n",
    "\n",
    "**Please run below cell to select features**"
   ]
  },
  {
   "cell_type": "code",
   "execution_count": null,
   "metadata": {},
   "outputs": [],
   "source": [
    "if config.getAttr('data_icu'):\n",
    "    feature_icu(cohort_output, \n",
    "                config.getAttr('version_path'),\n",
    "                config.getAttr('diag_flag'),\n",
    "                config.getAttr('out_flag'),\n",
    "                config.getAttr('chart_flag'),\n",
    "                config.getAttr('proc_flag'),\n",
    "                config.getAttr('med_flag'))\n",
    "else:\n",
    "    feature_nonicu(cohort_output, \n",
    "                   config.getAttr('version_path'),\n",
    "                   config.getAttr('diag_flag'),\n",
    "                   config.getAttr('lab_flag'),\n",
    "                   config.getAttr('proc_flag'),\n",
    "                   config.getAttr('med_flag'))"
   ]
  },
  {
   "cell_type": "markdown",
   "metadata": {},
   "source": [
    "## 3. CLINICAL GROUPING\n",
    "Below you will have option to clinically group diagnosis and medications.\n",
    "Grouping medical codes will reduce dimensional space of features.\n",
    "\n",
    "Default options selected below will group medical codes to reduce feature dimension space.\n",
    "\n",
    "**Please run below cell to select preprocessing for diferent features**"
   ]
  },
  {
   "cell_type": "code",
   "execution_count": null,
   "metadata": {},
   "outputs": [],
   "source": [
    "if config.getAttr('data_icu'):\n",
    "    preprocess_features_icu(cohort_output, \n",
    "                            config.getAttr('diag_flag'), \n",
    "                            config.getAttr('group_diag'),\n",
    "                            False,\n",
    "                            False,\n",
    "                            False,\n",
    "                            0,\n",
    "                            0)\n",
    "else:\n",
    "    preprocess_features_hosp(cohort_output, \n",
    "                             config.getAttr('diag_flag'),\n",
    "                             config.getAttr('proc_flag'),\n",
    "                             config.getAttr('med_flag'),\n",
    "                             False,\n",
    "                             config.getAttr('group_diag'),\n",
    "                             config.getAttr('group_med'),\n",
    "                             config.getAttr('group_proc'),\n",
    "                             False,\n",
    "                             False,\n",
    "                             0,\n",
    "                             0)"
   ]
  },
  {
   "cell_type": "markdown",
   "metadata": {},
   "source": [
    "## 5. Feature Selection\n",
    "\n",
    "based on the files generated in previous step and other infromation gathered by you,<br>\n",
    "Please select which medical codes you want to include in this study.\n",
    "\n",
    "Please run below cell to to select options for which features you want to perform feature selection.\n",
    "\n",
    "- Select **Yes** if you want to select a subset of medical codes for that feature and<br> **edit** the corresponding feature file for it.\n",
    "- Select **No** if you want to keep all the codes in a feature."
   ]
  },
  {
   "cell_type": "code",
   "execution_count": null,
   "metadata": {},
   "outputs": [],
   "source": [
    "if config.getAttr('data_icu'):\n",
    "    features_selection_icu(cohort_output, \n",
    "                           config.getAttr('diag_flag'),\n",
    "                           config.getAttr('proc_flag'),\n",
    "                           config.getAttr('med_flag'),\n",
    "                           config.getAttr('out_flag'), \n",
    "                           config.getAttr('chart_flag'),\n",
    "                           config.getAttr('select_diag'),\n",
    "                           config.getAttr('select_med'),\n",
    "                           config.getAttr('select_proc'),\n",
    "                           config.getAttr('select_out'),\n",
    "                           config.getAttr('select_chart'))\n",
    "else:\n",
    "    features_selection_hosp(cohort_output, \n",
    "                            config.getAttr('diag_flag'),\n",
    "                            config.getAttr('proc_flag'),\n",
    "                            config.getAttr('med_flag'),\n",
    "                            config.getAttr('lab_flag'),\n",
    "                            config.getAttr('select_diag'),\n",
    "                            config.getAttr('select_med'),\n",
    "                            config.getAttr('select_proc'),\n",
    "                            config.getAttr('select_lab'))"
   ]
  },
  {
   "cell_type": "markdown",
   "metadata": {},
   "source": [
    "### 4. SUMMARY OF FEATURES\n",
    "\n",
    "This step will generate summary of all features extracted so far.<br>\n",
    "It will save summary files in **./data/summary/**<br>\n",
    "- These files provide summary about **mean frequency** of medical codes per admission.<br>\n",
    "- It also provides **total occurrence count** of each medical code.<br>\n",
    "- For labs and chart events it will also provide <br>**missing %** which tells how many rows for a certain medical code has missing value.\n",
    "\n",
    "Please use this information to further refine your cohort by selecting <br>which medical codes in each feature you want to keep and <br>which codes you would like to remove for downstream analysis tasks.\n",
    "\n",
    "**Please run below cell to generate summary files**"
   ]
  },
  {
   "cell_type": "code",
   "execution_count": null,
   "metadata": {},
   "outputs": [],
   "source": [
    "if config.getAttr('data_icu'):\n",
    "    generate_summary_icu(\n",
    "                    config.getAttr('diag_flag'),\n",
    "                    config.getAttr('proc_flag'),\n",
    "                    config.getAttr('med_flag'),\n",
    "                    config.getAttr('out_flag'), \n",
    "                    config.getAttr('chart_flag')\n",
    "                    )\n",
    "else:\n",
    "    generate_summary_hosp(\n",
    "                    config.getAttr('diag_flag'),\n",
    "                    config.getAttr('proc_flag'),\n",
    "                    config.getAttr('med_flag'),\n",
    "                    config.getAttr('lab_flag')\n",
    "                    )"
   ]
  },
  {
   "cell_type": "markdown",
   "metadata": {},
   "source": [
    "## 6. CLEANING OF FEATURES\n",
    "Below you will have option to to clean lab and chart events by performing outlier removal and unit conversion.\n",
    "\n",
    "Outlier removal is performed to remove values higher than selected **right threshold** percentile and lower than selected **left threshold** percentile among all values for each itemid. \n",
    "\n",
    "**Please run below cell to select preprocessing for diferent features**"
   ]
  },
  {
   "cell_type": "code",
   "execution_count": null,
   "metadata": {},
   "outputs": [],
   "source": [
    "if config.getAttr('data_icu'):\n",
    "    preprocess_features_icu(cohort_output, \n",
    "                            False, \n",
    "                            False,\n",
    "                            config.getAttr('chart_flag'),\n",
    "                            config.getAttr('clean_chart'),\n",
    "                            config.getAttr('impute_outlier_chart'),\n",
    "                            config.getAttr('thresh'),\n",
    "                            config.getAttr('left_thresh')\n",
    "                           )\n",
    "else:\n",
    "    preprocess_features_hosp(cohort_output, \n",
    "                             False,\n",
    "                             False,\n",
    "                             False,\n",
    "                             config.getAttr('lab_flag'),\n",
    "                             False,\n",
    "                             False,\n",
    "                             False,\n",
    "                             config.getAttr('clean_lab'),\n",
    "                             config.getAttr('impute_outlier_chart'),\n",
    "                             config.getAttr('thresh'),\n",
    "                             config.getAttr('left_thresh')\n",
    "                            )"
   ]
  },
  {
   "cell_type": "markdown",
   "metadata": {},
   "source": [
    "## 7. Time-Series Representation\n",
    "In this section, please choose how you want to process and represent time-series data.\n",
    "\n",
    "- First option is to select the length of time-series data you want to include for this study. (Default is 72 hours)\n",
    "\n",
    "- Second option is to select bucket size which tells in what size time windows you want to divide your time-series.<br>\n",
    "For example, if you select **2** bucket size, it wil aggregate data for every 2 hours and <br>a time-series of length 24 hours will be represented as time-series with 12 time-windows <br>where data for every 2 hours is agggregated from original raw time-series.\n",
    "\n",
    "During this step, we will also save the time-series data in data dictionaries in the format that can be directly used for following deep learning analysis.\n",
    "\n",
    "### Imputation\n",
    "You can also choose if you want to impute lab/chart values. The imputation will be done by froward fill and mean or median imputation.<br>\n",
    "Values will be forward fill first and if no value exists for that admission we will use mean or median value for the patient.\n",
    "\n",
    "The data dictionaries will be saved in **./data/dict/**\n",
    "\n",
    "Please refer the readme to know the structure of data dictionaries.\n",
    "\n",
    "**Please run below cell to select time-series representation**"
   ]
  },
  {
   "cell_type": "code",
   "execution_count": null,
   "metadata": {},
   "outputs": [],
   "source": [
    "if config.getAttr('data_icu'):\n",
    "    gen=data_generation_icu.Generator(cohort_output,\n",
    "                                      config.getAttr('data_mort'),\n",
    "                                      config.getAttr('data_admn'),\n",
    "                                      config.getAttr('data_los'),\n",
    "                                      config.getAttr('diag_flag'),\n",
    "                                      config.getAttr('proc_flag'),\n",
    "                                      config.getAttr('out_flag'),\n",
    "                                      config.getAttr('chart_flag'),\n",
    "                                      config.getAttr('med_flag'),\n",
    "                                      config.getAttr('impute'),\n",
    "                                      config.getAttr('include'),\n",
    "                                      config.getAttr('bucket'),\n",
    "                                      config.getAttr('predW')\n",
    "                                     )\n",
    "else:\n",
    "    gen=data_generation.Generator(cohort_output,\n",
    "                                  config.getAttr('data_mort'),\n",
    "                                  config.getAttr('data_admn'),\n",
    "                                  config.getAttr('data_los'),\n",
    "                                  config.getAttr('diag_flag'),\n",
    "                                  config.getAttr('lab_flag'),\n",
    "                                  config.getAttr('proc_flag'),\n",
    "                                  config.getAttr('med_flag'),\n",
    "                                  config.getAttr('impute'),\n",
    "                                  config.getAttr('include'),\n",
    "                                  config.getAttr('bucket'),\n",
    "                                  config.getAttr('predW'))"
   ]
  },
  {
   "cell_type": "markdown",
   "metadata": {},
   "source": [
    "## 8. Machine Learning Models\n",
    "\n",
    "Below we provide options to select -\n",
    "- Type of machine learning model\n",
    "- Wheteher to concatenate or aggregate time-series features.\n",
    "    For example, if the EHR data has collected value for Blood Pressure for one year over 4 time windows of 3 months each then,\n",
    "    - **Conactenate** will concatenate all four values resulting in 4 different features for blood pressure,\n",
    "    - **Aggregate** will aggreagte(mean) over four tiem windows resulting in one feature for blood pressure."
   ]
  },
  {
   "cell_type": "code",
   "execution_count": null,
   "metadata": {
    "scrolled": true
   },
   "outputs": [],
   "source": [
    "ml=ml_models.ML_models(config.getAttr('data_icu'),\n",
    "                       config.getAttr('cv'),\n",
    "                       config.getAttr('model'),\n",
    "                       config.getAttr('concat'),\n",
    "                       config.getAttr('oversampling')\n",
    "                      )"
   ]
  },
  {
   "cell_type": "markdown",
   "metadata": {},
   "source": [
    "## 9. Deep Learning Models\n",
    "- Time-series LSTM and Time-series CNN which will only use time-series events like medications, charts, labs, output events to train model.\n",
    "\n",
    "- Hybrid LSTM and Hybrid CNN will use static data - diagnosis, demographic data aong with other time-series data to train model.\n",
    "\n",
    "- LSTM with Attention model will use attention layer to rank the important features and learn to predict output. It will use both static and time-series data.\n",
    "\n",
    "**Go to ./model/parameter.py and define all variables needed for model building and training**\n",
    "\n",
    "**Please run below cell to select which model to use**"
   ]
  },
  {
   "cell_type": "code",
   "execution_count": null,
   "metadata": {
    "scrolled": true
   },
   "outputs": [],
   "source": [
    "if config.getAttr('data_icu'):\n",
    "    model=dl_train.DL_models(config.getAttr('data_icu'),\n",
    "                             config.getAttr('diag_flag'),\n",
    "                             config.getAttr('proc_flag'),\n",
    "                             config.getAttr('out_flag'),\n",
    "                             config.getAttr('chart_flag'),\n",
    "                             config.getAttr('med_flag'),\n",
    "                             False,\n",
    "                             config.getAttr('dl_model'),\n",
    "                             config.getAttr('dl_cv'),\n",
    "                             config.getAttr('dl_oversampling'),\n",
    "                             model_name='attn_icu_read',\n",
    "                             train=True)\n",
    "else:\n",
    "    model=dl_train.DL_models(config.getAttr('data_icu'),\n",
    "                             config.getAttr('diag_flag'),\n",
    "                             config.getAttr('proc_flag'),\n",
    "                             False,\n",
    "                             False,\n",
    "                             config.getAttr('med_flag'),\n",
    "                             config.getAttr('lab_flag'),\n",
    "                             config.getAttr('dl_model'),\n",
    "                             config.getAttr('dl_cv'),\n",
    "                             config.getAttr('dl_oversampling'),\n",
    "                             model_name='attn_icu_read',\n",
    "                             train=True)"
   ]
  },
  {
   "cell_type": "markdown",
   "metadata": {},
   "source": [
    "## 10. Running BEHRT\n",
    "Below we integrate the implementation of BEHRT in our pipeline.\n",
    "We perform pre-procesing needed to run BEHRT model. https://github.com/deepmedicine/BEHRT\n",
    "\n",
    "Few things to note before running BEHRT -\n",
    "- The numerical values are binned into quantiles.\n",
    "- BEHRT has recommended maximum number of events per sample to be 512. \n",
    "    So feature selection is important so that number of events per sample does not exceed 512.\n",
    "- The model is quite computationally heavy so it requires a GPU.\n",
    "\n",
    "The output files for BEHRT will be saved in ./data/behrt/ folder\n",
    "\n",
    "**Please run below cell to to pre-process and run BEHRT on the selected cohort**"
   ]
  },
  {
   "cell_type": "code",
   "execution_count": null,
   "metadata": {},
   "outputs": [],
   "source": [
    "\n",
    "if config.getAttr('data_icu'):\n",
    "    tokenized_src, tokenized_age, tokenized_gender, tokenized_ethni, tokenized_ins, tokenized_labels=BEHRT_models(config.getAttr('data_icu'),\n",
    "                                                                   config.getAttr('diag_flag'),\n",
    "                                                                   config.getAttr('proc_flag'),\n",
    "                                                                   config.getAttr('out_flag'),\n",
    "                                                                   config.getAttr('chart_flag'),\n",
    "                                                                   config.getAttr('med_flag'),\n",
    "                                                                   False\n",
    "                                                                  )\n",
    "else:\n",
    "    tokenized_src, tokenized_age, tokenized_gender, tokenized_ethni, tokenized_ins, tokenized_labels=BEHRT_models(config.getAttr('data_icu'),\n",
    "                                                                   config.getAttr('diag_flag'),\n",
    "                                                                   config.getAttr('proc_flag'),\n",
    "                                                                   False,\n",
    "                                                                   False,\n",
    "                                                                   config.getAttr('med_flag'),\n",
    "                                                                   config.getAttr('lab_flag')\n",
    "                                                                  )\n",
    "    \n",
    "behrt_train.train_behrt(tokenized_src, \n",
    "                        tokenized_age, \n",
    "                        tokenized_gender, \n",
    "                        tokenized_ethni, \n",
    "                        tokenized_ins, \n",
    "                        tokenized_labels)"
   ]
  },
  {
   "cell_type": "markdown",
   "metadata": {},
   "source": [
    "### EVALUATION AS STANDALONE MODULE\n",
    "Below cell shows an exaple of how evaluation module can be used as a standalone module.\n",
    "\n",
    "evaluation.Loss class can be instantiated and model output and ground truth can be passed to it to obtain results.\n",
    "\n",
    "In the example below we captured model output and ground truth in a file and used that file to read the data.\n",
    "\n",
    "In function definition ***loss(prob,truth,logits,False)***\n",
    "\n",
    "prob -> List of Output predicted probabilities of case being positive\n",
    "\n",
    "truth -> List of ground truth labels\n",
    "\n",
    "logits -> List of logits obtained from last fully connected layer before applying softmax.sigmoid function in the model."
   ]
  },
  {
   "cell_type": "code",
   "execution_count": null,
   "metadata": {},
   "outputs": [],
   "source": [
    "if torch.cuda.is_available():\n",
    "    device='cuda:0'\n",
    "device='cpu'\n",
    "loss=evaluation.Loss(device,acc=True,ppv=True,sensi=True,tnr=True,npv=True,auroc=True,aurocPlot=True,auprc=True,auprcPlot=True,callb=True,callbPlot=True)\n",
    "with open(\"./data/output/outputDict\", 'rb') as fp:\n",
    "    outputDict=pickle.load(fp)\n",
    "prob=list(outputDict['Prob'])\n",
    "truth=list(outputDict['Labels'])\n",
    "logits=list(outputDict['Logits'])\n",
    "#print(torch.tensor(prob))\n",
    "print(\"======= TESTING ========\")\n",
    "loss(prob,truth,logits,train=False,standalone=True)\n"
   ]
  },
  {
   "cell_type": "markdown",
   "metadata": {},
   "source": [
    "### 11. FAIRNESS EVALUATION\n",
    "In train and testing step we save output files in **./data/output/** folder.\n",
    "\n",
    "This file conatins list of demographic variables included in training and testing of the model.\n",
    "\n",
    "It also contains the ground truth labels and predicted probability for each sample.\n",
    "\n",
    "We use the above saved data to perform fairness evaluation of the results obtained from model testing.\n",
    "\n",
    "This module can be used as stand-alone module also.\n",
    "\n",
    "Please create a file that contains predicted probabilites form the last sigmoid layer in column named **Prob** and\n",
    "ground truth labels for each sample in column named **Labels**."
   ]
  },
  {
   "cell_type": "code",
   "execution_count": null,
   "metadata": {},
   "outputs": [],
   "source": [
    "fairness.fairness_evaluation(inputFile='outputDict',outputFile='fairnessReport')"
   ]
  },
  {
   "cell_type": "markdown",
   "metadata": {},
   "source": [
    "### 12. MODEL CALLIBRATION\n",
    "\n",
    "Please run below cell if you want to callibrate predicted probabilites of the model on test data.\n",
    "It will use the output saved during the testing of the model.\n",
    "\n",
    "The file is saved in **./data/output/**.\n",
    "\n",
    "This module can be used as stand-alone module also.\n",
    "\n",
    "Please create a file that contain predicted logits form the last fully connected layer in column named **Logits** and <br>ground truth labels for each sample in a column named **Labels**."
   ]
  },
  {
   "cell_type": "code",
   "execution_count": null,
   "metadata": {},
   "outputs": [],
   "source": [
    "callibrate_output.callibrate(inputFile='outputDict',outputFile='callibratedResults')"
   ]
  },
  {
   "cell_type": "code",
   "execution_count": null,
   "metadata": {},
   "outputs": [],
   "source": []
  }
 ],
 "metadata": {
  "hide_input": false,
  "kernelspec": {
   "display_name": "Python 3 (ipykernel)",
   "language": "python",
   "name": "python3"
  },
  "language_info": {
   "codemirror_mode": {
    "name": "ipython",
    "version": 3
   },
   "file_extension": ".py",
   "mimetype": "text/x-python",
   "name": "python",
   "nbconvert_exporter": "python",
   "pygments_lexer": "ipython3",
   "version": "3.8.5"
  }
 },
 "nbformat": 4,
 "nbformat_minor": 5
}
